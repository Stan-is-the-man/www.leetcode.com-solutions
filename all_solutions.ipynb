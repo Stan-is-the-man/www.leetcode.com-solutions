{
 "cells": [
  {
   "cell_type": "code",
   "execution_count": 12,
   "metadata": {
    "collapsed": true
   },
   "outputs": [
    {
     "ename": "TypeError",
     "evalue": "sum() missing 1 required positional argument: 'num2'",
     "output_type": "error",
     "traceback": [
      "\u001B[0;31m---------------------------------------------------------------------------\u001B[0m",
      "\u001B[0;31mTypeError\u001B[0m                                 Traceback (most recent call last)",
      "Cell \u001B[0;32mIn[12], line 11\u001B[0m\n\u001B[1;32m      7\u001B[0m         num \u001B[38;5;241m=\u001B[39m sum_list\n\u001B[1;32m      9\u001B[0m     \u001B[38;5;28;01mreturn\u001B[39;00m num\n\u001B[0;32m---> 11\u001B[0m a \u001B[38;5;241m=\u001B[39m \u001B[43maddDigits\u001B[49m\u001B[43m(\u001B[49m\u001B[38;5;241;43m38\u001B[39;49m\u001B[43m)\u001B[49m\n\u001B[1;32m     12\u001B[0m \u001B[38;5;28mprint\u001B[39m(a)\n",
      "Cell \u001B[0;32mIn[12], line 6\u001B[0m, in \u001B[0;36maddDigits\u001B[0;34m(num)\u001B[0m\n\u001B[1;32m      4\u001B[0m \u001B[38;5;28;01mwhile\u001B[39;00m num \u001B[38;5;241m>\u001B[39m \u001B[38;5;241m9\u001B[39m:\n\u001B[1;32m      5\u001B[0m     new \u001B[38;5;241m=\u001B[39m [\u001B[38;5;28mint\u001B[39m(x) \u001B[38;5;28;01mfor\u001B[39;00m x \u001B[38;5;129;01min\u001B[39;00m \u001B[38;5;28mstr\u001B[39m(num)]\n\u001B[0;32m----> 6\u001B[0m     sum_list \u001B[38;5;241m=\u001B[39m \u001B[38;5;28;43msum\u001B[39;49m\u001B[43m(\u001B[49m\u001B[43mnew\u001B[49m\u001B[43m)\u001B[49m\n\u001B[1;32m      7\u001B[0m     num \u001B[38;5;241m=\u001B[39m sum_list\n\u001B[1;32m      9\u001B[0m \u001B[38;5;28;01mreturn\u001B[39;00m num\n",
      "\u001B[0;31mTypeError\u001B[0m: sum() missing 1 required positional argument: 'num2'"
     ]
    }
   ],
   "source": [
    "# For submitting in www.leetcode.com use only the body of the function(not the name or the example)\n",
    "\n",
    "#258. Add Digits\n",
    "\n",
    "def addDigits(num: int):\n",
    "    while num > 9:\n",
    "        new = [int(x) for x in str(num)]\n",
    "        sum_list = sum(new)\n",
    "        num = sum_list\n",
    "\n",
    "    return num\n",
    "\n",
    "a = addDigits(38)\n",
    "print(a)"
   ]
  },
  {
   "cell_type": "code",
   "execution_count": 1,
   "outputs": [],
   "source": [
    "#235. Add Two Integers\n",
    "\n",
    "def sum(num1: int, num2: int):\n",
    "     return num1 + num2"
   ],
   "metadata": {
    "collapsed": false
   }
  },
  {
   "cell_type": "code",
   "execution_count": 2,
   "outputs": [],
   "source": [
    "#415. Add Strings\n",
    "class Solution:\n",
    "    def addStrings(self, num1: str, num2: str) -> str:\n",
    "        return str(int(num1) + int(num2))\n"
   ],
   "metadata": {
    "collapsed": false
   }
  },
  {
   "cell_type": "code",
   "execution_count": 11,
   "outputs": [
    {
     "name": "stdout",
     "output_type": "stream",
     "text": [
      "True\n"
     ]
    }
   ],
   "source": [
    "# 9. Palindrome Number\n",
    "def is_palindrome(x: int):\n",
    "    a = str(x)\n",
    "    b = a[::-1]\n",
    "    if a == b:\n",
    "        return True\n",
    "    return False\n",
    "\n",
    "\n",
    "a = is_palindrome(126621)\n",
    "print(a)"
   ],
   "metadata": {
    "collapsed": false
   }
  },
  {
   "cell_type": "code",
   "execution_count": 15,
   "outputs": [
    {
     "name": "stdout",
     "output_type": "stream",
     "text": [
      "2\n"
     ]
    }
   ],
   "source": [
    "# 27. Remove Element\n",
    "def removeElement(nums: list[int], val: int):\n",
    "    while val in nums:\n",
    "        nums.remove(val)\n",
    "    return len(nums)\n",
    "\n",
    "z = [3,2,2,3]\n",
    "a = removeElement(z, 3)\n",
    "print(a)"
   ],
   "metadata": {
    "collapsed": false
   }
  },
  {
   "cell_type": "code",
   "execution_count": null,
   "outputs": [],
   "source": [],
   "metadata": {
    "collapsed": false
   }
  }
 ],
 "metadata": {
  "kernelspec": {
   "display_name": "Python 3",
   "language": "python",
   "name": "python3"
  },
  "language_info": {
   "codemirror_mode": {
    "name": "ipython",
    "version": 2
   },
   "file_extension": ".py",
   "mimetype": "text/x-python",
   "name": "python",
   "nbconvert_exporter": "python",
   "pygments_lexer": "ipython2",
   "version": "2.7.6"
  }
 },
 "nbformat": 4,
 "nbformat_minor": 0
}
