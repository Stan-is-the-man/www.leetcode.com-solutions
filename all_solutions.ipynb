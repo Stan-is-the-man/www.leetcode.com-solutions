{
 "cells": [
  {
   "cell_type": "code",
   "execution_count": 5,
   "metadata": {
    "collapsed": true
   },
   "outputs": [],
   "source": [
    "# For submitting in www.leetcode.com use only the body of the function(not the name or the example)\n",
    "\n",
    "#258. Add Digits\n",
    "\n",
    "# def addDigits(num: int):\n",
    "#     while num > 9:\n",
    "#         new = [int(x) for x in str(num)]\n",
    "#         sum_list = sum(new)\n",
    "#         num = sum_list\n",
    "#\n",
    "#     return num\n",
    "#\n",
    "# a = addDigits(38)\n",
    "# print(a)"
   ]
  },
  {
   "cell_type": "code",
   "execution_count": 1,
   "outputs": [],
   "source": [
    "#235. Add Two Integers\n",
    "\n",
    "def sum(num1: int, num2: int):\n",
    "     return num1 + num2"
   ],
   "metadata": {
    "collapsed": false
   }
  },
  {
   "cell_type": "code",
   "execution_count": 2,
   "outputs": [],
   "source": [
    "#415. Add Strings\n",
    "class Solution:\n",
    "    def addStrings(self, num1: str, num2: str) -> str:\n",
    "        return str(int(num1) + int(num2))\n"
   ],
   "metadata": {
    "collapsed": false
   }
  },
  {
   "cell_type": "code",
   "execution_count": 11,
   "outputs": [
    {
     "name": "stdout",
     "output_type": "stream",
     "text": [
      "True\n"
     ]
    }
   ],
   "source": [
    "# 9. Palindrome Number\n",
    "def is_palindrome(x: int):\n",
    "    a = str(x)\n",
    "    b = a[::-1]\n",
    "    if a == b:\n",
    "        return True\n",
    "    return False\n",
    "\n",
    "\n",
    "a = is_palindrome(126621)\n",
    "print(a)"
   ],
   "metadata": {
    "collapsed": false
   }
  },
  {
   "cell_type": "code",
   "execution_count": 15,
   "outputs": [
    {
     "name": "stdout",
     "output_type": "stream",
     "text": [
      "2\n"
     ]
    }
   ],
   "source": [
    "# 27. Remove Element\n",
    "def removeElement(nums: list[int], val: int):\n",
    "    while val in nums:\n",
    "        nums.remove(val)\n",
    "    return len(nums)\n",
    "\n",
    "z = [3,2,2,3]\n",
    "a = removeElement(z, 3)\n",
    "print(a)"
   ],
   "metadata": {
    "collapsed": false
   }
  },
  {
   "cell_type": "code",
   "execution_count": 2,
   "outputs": [
    {
     "name": "stdout",
     "output_type": "stream",
     "text": [
      "\n",
      "fl\n"
     ]
    }
   ],
   "source": [
    "#14. Longest Common Prefix\n",
    "\n",
    "def longest_commonPrefix(strs: list[str]):\n",
    "    strs = sorted(strs, key=len)\n",
    "    to_compare = strs[0]\n",
    "    index_match = 0\n",
    "    missmatch = False\n",
    "\n",
    "    for index, value in enumerate(to_compare):\n",
    "        current_match = 0\n",
    "        for x in range(len(strs)):\n",
    "            a = strs[x][index]\n",
    "            if value != a:\n",
    "                missmatch = True\n",
    "                break\n",
    "            if missmatch:\n",
    "                break\n",
    "            current_match += 1\n",
    "        if current_match == len(strs):\n",
    "            index_match += 1\n",
    "\n",
    "    return to_compare[:index_match]\n",
    "\n",
    "\n",
    "a = longest_commonPrefix([\"flower\",\"flow\",\"flight\"])\n",
    "print(a)\n"
   ],
   "metadata": {
    "collapsed": false
   }
  },
  {
   "cell_type": "code",
   "execution_count": 3,
   "outputs": [
    {
     "name": "stdout",
     "output_type": "stream",
     "text": [
      "True\n"
     ]
    }
   ],
   "source": [
    "# 20. Valid Parentheses - NOT FULLL !!!!!!!\n",
    "def is_valid(s: str):\n",
    "    if \"(\" in s and \")\" in s:\n",
    "        s = s.replace(\"(\", '', 1)\n",
    "        s = s.replace(\")\", '', 1)\n",
    "\n",
    "    if \"[\" in s and \"]\" in s:\n",
    "        s = s.replace(\"[\", '', 1)\n",
    "        s = s.replace(\"]\", '', 1)\n",
    "\n",
    "    if \"{\" in s and \"}\" in s:\n",
    "        s = s.replace(\"{\", '', 1)\n",
    "        s = s.replace(\"}\", '', 1)\n",
    "\n",
    "    if len(s) == 0:\n",
    "        return True\n",
    "\n",
    "    return False\n",
    "\n",
    "\n",
    "a = \")(\"\n",
    "a = is_valid(a)\n",
    "print(a)"
   ],
   "metadata": {
    "collapsed": false
   }
  },
  {
   "cell_type": "code",
   "execution_count": 4,
   "outputs": [
    {
     "name": "stdout",
     "output_type": "stream",
     "text": [
      "-1\n"
     ]
    }
   ],
   "source": [
    "# 35. Search Insert Position\n",
    "def str_str(haystack: str, needle: str):\n",
    "    for index in range(0, len(haystack) - len(needle) + 1):\n",
    "        current = ''\n",
    "        for x in range(index, index + len(needle)):\n",
    "            current += haystack[x]\n",
    "        if current == needle:\n",
    "            return index\n",
    "    return -1\n",
    "\n",
    "\n",
    "haystack1 = \"asasutad\"\n",
    "needle1 = \"sad\"\n",
    "a = str_str(haystack1, needle1)\n",
    "print(a)\n"
   ],
   "metadata": {
    "collapsed": false
   }
  },
  {
   "cell_type": "code",
   "execution_count": 6,
   "outputs": [
    {
     "name": "stdout",
     "output_type": "stream",
     "text": [
      "4\n"
     ]
    }
   ],
   "source": [
    "# 58. Length of Last Word\n",
    "\n",
    "def searchInsert(nums: list[int], target: int):\n",
    "    for x in range(len(nums)):\n",
    "        if nums[x] == target:\n",
    "            return x\n",
    "\n",
    "    for x in range(len(nums)):\n",
    "        if x == 0 and target < nums[x]:\n",
    "            return x\n",
    "        if x == len(nums) - 1 and target > nums[x]:\n",
    "            return x + 1\n",
    "        if nums[x] < target < nums[x + 1]:\n",
    "            return x + 1\n",
    "\n",
    "\n",
    "nums = [1, 3, 5, 6]\n",
    "target = 7\n",
    "a = searchInsert(nums, target)\n",
    "print(a)"
   ],
   "metadata": {
    "collapsed": false
   }
  },
  {
   "cell_type": "code",
   "execution_count": 7,
   "outputs": [
    {
     "name": "stdout",
     "output_type": "stream",
     "text": [
      "6\n"
     ]
    }
   ],
   "source": [
    "# 66. Plus One\n",
    "\n",
    "def lengthOfLastWord(s: str):\n",
    "    list_of_words = s.split(' ')\n",
    "    new_list = [x for x in list_of_words if x != '']\n",
    "    new_list.reverse()\n",
    "    for word in new_list:\n",
    "        return len(word)\n",
    "\n",
    "\n",
    "s = \"luffy is still joyboy\"\n",
    "a = lengthOfLastWord(s)\n",
    "print(a)\n"
   ],
   "metadata": {
    "collapsed": false
   }
  },
  {
   "cell_type": "code",
   "execution_count": 9,
   "outputs": [
    {
     "name": "stdout",
     "output_type": "stream",
     "text": [
      "[4, 3, 2, 2]\n"
     ]
    }
   ],
   "source": [
    "# 66. Plus One\n",
    "\n",
    "def plus_one(digits):\n",
    "    digits = [str(x) for x in digits]\n",
    "    num = ''.join(digits)\n",
    "    new_str = str(int(num) + 1)\n",
    "    result = [int(x) for x in new_str]\n",
    "    return result\n",
    "\n",
    "\n",
    "a = [4,3,2,1]\n",
    "b = plus_one(a)\n",
    "print(b)\n"
   ],
   "metadata": {
    "collapsed": false
   }
  },
  {
   "cell_type": "code",
   "execution_count": null,
   "outputs": [],
   "source": [],
   "metadata": {
    "collapsed": false
   }
  }
 ],
 "metadata": {
  "kernelspec": {
   "display_name": "Python 3",
   "language": "python",
   "name": "python3"
  },
  "language_info": {
   "codemirror_mode": {
    "name": "ipython",
    "version": 2
   },
   "file_extension": ".py",
   "mimetype": "text/x-python",
   "name": "python",
   "nbconvert_exporter": "python",
   "pygments_lexer": "ipython2",
   "version": "2.7.6"
  }
 },
 "nbformat": 4,
 "nbformat_minor": 0
}
